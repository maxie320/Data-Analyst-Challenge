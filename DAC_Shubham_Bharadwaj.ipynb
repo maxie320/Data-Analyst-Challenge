{
 "cells": [
  {
   "cell_type": "code",
   "execution_count": 1,
   "metadata": {},
   "outputs": [],
   "source": [
    "#importing libraries\n",
    "import pandas as pd\n",
    "import numpy as np\n",
    "import swifter\n",
    "import operator, functools\n",
    "import ast\n",
    "import matplotlib.pyplot as plt"
   ]
  },
  {
   "cell_type": "code",
   "execution_count": null,
   "metadata": {},
   "outputs": [],
   "source": [
    "######TASK 1########"
   ]
  },
  {
   "cell_type": "code",
   "execution_count": 2,
   "metadata": {},
   "outputs": [],
   "source": [
    "#read data\n",
    "TakeHomeData = pd.read_csv('takeHome.csv')"
   ]
  },
  {
   "cell_type": "code",
   "execution_count": 3,
   "metadata": {},
   "outputs": [
    {
     "data": {
      "text/plain": [
       "ltv      1\n",
       "ttime    0\n",
       "abt      0\n",
       "tue      2\n",
       "dtype: int64"
      ]
     },
     "execution_count": 3,
     "metadata": {},
     "output_type": "execute_result"
    }
   ],
   "source": [
    "#check missing values - sanity check\n",
    "TakeHomeData.isna().sum()"
   ]
  },
  {
   "cell_type": "code",
   "execution_count": 4,
   "metadata": {},
   "outputs": [
    {
     "data": {
      "text/html": [
       "<div>\n",
       "<style scoped>\n",
       "    .dataframe tbody tr th:only-of-type {\n",
       "        vertical-align: middle;\n",
       "    }\n",
       "\n",
       "    .dataframe tbody tr th {\n",
       "        vertical-align: top;\n",
       "    }\n",
       "\n",
       "    .dataframe thead th {\n",
       "        text-align: right;\n",
       "    }\n",
       "</style>\n",
       "<table border=\"1\" class=\"dataframe\">\n",
       "  <thead>\n",
       "    <tr style=\"text-align: right;\">\n",
       "      <th></th>\n",
       "      <th>ltv</th>\n",
       "      <th>ttime</th>\n",
       "      <th>abt</th>\n",
       "      <th>tue</th>\n",
       "    </tr>\n",
       "  </thead>\n",
       "  <tbody>\n",
       "    <tr>\n",
       "      <th>0</th>\n",
       "      <td>{\"n\":\"250\"}</td>\n",
       "      <td>{\"n\":\"1077572\"}</td>\n",
       "      <td>{\"n\":\"31\"}</td>\n",
       "      <td>{\"n\":\"38\"}</td>\n",
       "    </tr>\n",
       "    <tr>\n",
       "      <th>1</th>\n",
       "      <td>{\"n\":\"49\"}</td>\n",
       "      <td>{\"n\":\"60028\"}</td>\n",
       "      <td>{\"n\":\"32\"}</td>\n",
       "      <td>{\"n\":\"15\"}</td>\n",
       "    </tr>\n",
       "    <tr>\n",
       "      <th>2</th>\n",
       "      <td>{\"n\":\"680\"}</td>\n",
       "      <td>{\"n\":\"2018285\"}</td>\n",
       "      <td>{\"n\":\"7\"}</td>\n",
       "      <td>{\"n\":\"46\"}</td>\n",
       "    </tr>\n",
       "    <tr>\n",
       "      <th>3</th>\n",
       "      <td>{\"n\":\"125\"}</td>\n",
       "      <td>{\"n\":\"98142\"}</td>\n",
       "      <td>{\"n\":\"11\"}</td>\n",
       "      <td>{\"n\":\"15\"}</td>\n",
       "    </tr>\n",
       "    <tr>\n",
       "      <th>4</th>\n",
       "      <td>{\"n\":\"450\"}</td>\n",
       "      <td>{\"n\":\"115692\"}</td>\n",
       "      <td>{\"n\":\"9\"}</td>\n",
       "      <td>{\"n\":\"15\"}</td>\n",
       "    </tr>\n",
       "    <tr>\n",
       "      <th>...</th>\n",
       "      <td>...</td>\n",
       "      <td>...</td>\n",
       "      <td>...</td>\n",
       "      <td>...</td>\n",
       "    </tr>\n",
       "    <tr>\n",
       "      <th>9994</th>\n",
       "      <td>{\"n\":\"250\"}</td>\n",
       "      <td>{\"n\":\"4002074\"}</td>\n",
       "      <td>{\"n\":\"23\"}</td>\n",
       "      <td>{\"n\":\"127\"}</td>\n",
       "    </tr>\n",
       "    <tr>\n",
       "      <th>9995</th>\n",
       "      <td>{\"n\":\"250\"}</td>\n",
       "      <td>{\"n\":\"2134787\"}</td>\n",
       "      <td>{\"n\":\"28\"}</td>\n",
       "      <td>{\"n\":\"53\"}</td>\n",
       "    </tr>\n",
       "    <tr>\n",
       "      <th>9996</th>\n",
       "      <td>{\"n\":\"150\"}</td>\n",
       "      <td>{\"n\":\"107426\"}</td>\n",
       "      <td>{\"n\":\"53\"}</td>\n",
       "      <td>{\"n\":\"15\"}</td>\n",
       "    </tr>\n",
       "    <tr>\n",
       "      <th>9997</th>\n",
       "      <td>{\"n\":\"72\"}</td>\n",
       "      <td>{\"n\":\"0\"}</td>\n",
       "      <td>{\"n\":\"26\"}</td>\n",
       "      <td>{\"n\":\"15\"}</td>\n",
       "    </tr>\n",
       "    <tr>\n",
       "      <th>9998</th>\n",
       "      <td>{\"n\":\"175\"}</td>\n",
       "      <td>{\"n\":\"381875\"}</td>\n",
       "      <td>{\"n\":\"3\"}</td>\n",
       "      <td>{\"n\":\"25\"}</td>\n",
       "    </tr>\n",
       "  </tbody>\n",
       "</table>\n",
       "<p>9999 rows × 4 columns</p>\n",
       "</div>"
      ],
      "text/plain": [
       "              ltv            ttime         abt          tue\n",
       "0     {\"n\":\"250\"}  {\"n\":\"1077572\"}  {\"n\":\"31\"}   {\"n\":\"38\"}\n",
       "1      {\"n\":\"49\"}    {\"n\":\"60028\"}  {\"n\":\"32\"}   {\"n\":\"15\"}\n",
       "2     {\"n\":\"680\"}  {\"n\":\"2018285\"}   {\"n\":\"7\"}   {\"n\":\"46\"}\n",
       "3     {\"n\":\"125\"}    {\"n\":\"98142\"}  {\"n\":\"11\"}   {\"n\":\"15\"}\n",
       "4     {\"n\":\"450\"}   {\"n\":\"115692\"}   {\"n\":\"9\"}   {\"n\":\"15\"}\n",
       "...           ...              ...         ...          ...\n",
       "9994  {\"n\":\"250\"}  {\"n\":\"4002074\"}  {\"n\":\"23\"}  {\"n\":\"127\"}\n",
       "9995  {\"n\":\"250\"}  {\"n\":\"2134787\"}  {\"n\":\"28\"}   {\"n\":\"53\"}\n",
       "9996  {\"n\":\"150\"}   {\"n\":\"107426\"}  {\"n\":\"53\"}   {\"n\":\"15\"}\n",
       "9997   {\"n\":\"72\"}        {\"n\":\"0\"}  {\"n\":\"26\"}   {\"n\":\"15\"}\n",
       "9998  {\"n\":\"175\"}   {\"n\":\"381875\"}   {\"n\":\"3\"}   {\"n\":\"25\"}\n",
       "\n",
       "[9999 rows x 4 columns]"
      ]
     },
     "execution_count": 4,
     "metadata": {},
     "output_type": "execute_result"
    }
   ],
   "source": [
    "TakeHomeData"
   ]
  },
  {
   "cell_type": "code",
   "execution_count": 5,
   "metadata": {},
   "outputs": [
    {
     "data": {
      "text/plain": [
       "ltv      object\n",
       "ttime    object\n",
       "abt      object\n",
       "tue      object\n",
       "dtype: object"
      ]
     },
     "execution_count": 5,
     "metadata": {},
     "output_type": "execute_result"
    }
   ],
   "source": [
    "#check dtypes values - sanity check\n",
    "TakeHomeData.dtypes"
   ]
  },
  {
   "cell_type": "code",
   "execution_count": 6,
   "metadata": {},
   "outputs": [
    {
     "name": "stderr",
     "output_type": "stream",
     "text": [
      "/opt/anaconda3/lib/python3.7/site-packages/tqdm/std.py:656: FutureWarning: The Panel class is removed from pandas. Accessing it from the top-level namespace will also be removed in the next version\n",
      "  from pandas import Panel\n"
     ]
    },
    {
     "data": {
      "application/vnd.jupyter.widget-view+json": {
       "model_id": "e56a1222b8f94fe5b8ee8b81df593531",
       "version_major": 2,
       "version_minor": 0
      },
      "text/plain": [
       "HBox(children=(FloatProgress(value=0.0, description='Pandas Apply', max=9999.0, style=ProgressStyle(descriptio…"
      ]
     },
     "metadata": {},
     "output_type": "display_data"
    },
    {
     "name": "stdout",
     "output_type": "stream",
     "text": [
      "\n"
     ]
    },
    {
     "data": {
      "application/vnd.jupyter.widget-view+json": {
       "model_id": "4332bb7a7d1e4c7dbbf7670c93f3750e",
       "version_major": 2,
       "version_minor": 0
      },
      "text/plain": [
       "HBox(children=(FloatProgress(value=0.0, description='Pandas Apply', max=9999.0, style=ProgressStyle(descriptio…"
      ]
     },
     "metadata": {},
     "output_type": "display_data"
    },
    {
     "name": "stdout",
     "output_type": "stream",
     "text": [
      "\n"
     ]
    },
    {
     "data": {
      "application/vnd.jupyter.widget-view+json": {
       "model_id": "fe67354924cb413baafb5b1ef97da7e8",
       "version_major": 2,
       "version_minor": 0
      },
      "text/plain": [
       "HBox(children=(FloatProgress(value=0.0, description='Pandas Apply', max=9999.0, style=ProgressStyle(descriptio…"
      ]
     },
     "metadata": {},
     "output_type": "display_data"
    },
    {
     "name": "stdout",
     "output_type": "stream",
     "text": [
      "\n"
     ]
    },
    {
     "data": {
      "application/vnd.jupyter.widget-view+json": {
       "model_id": "26857ab99f984fa5844d30504abae9e8",
       "version_major": 2,
       "version_minor": 0
      },
      "text/plain": [
       "HBox(children=(FloatProgress(value=0.0, description='Pandas Apply', max=9999.0, style=ProgressStyle(descriptio…"
      ]
     },
     "metadata": {},
     "output_type": "display_data"
    },
    {
     "name": "stdout",
     "output_type": "stream",
     "text": [
      "\n"
     ]
    }
   ],
   "source": [
    "#clean values - sanity check\n",
    "TakeHomeData= TakeHomeData.fillna('{\"n\":\"0\"}')\n",
    "TakeHomeData['ltv'] = TakeHomeData['ltv'].swifter.apply(lambda x: ast.literal_eval(x))\n",
    "TakeHomeData['ttime'] = TakeHomeData['ttime'].swifter.apply(lambda x: ast.literal_eval(x))\n",
    "TakeHomeData['abt'] = TakeHomeData['abt'].swifter.apply(lambda x: ast.literal_eval(x))\n",
    "TakeHomeData['tue'] = TakeHomeData['tue'].swifter.apply(lambda x: ast.literal_eval(x))"
   ]
  },
  {
   "cell_type": "code",
   "execution_count": 7,
   "metadata": {},
   "outputs": [],
   "source": [
    "#extract data\n",
    "get_values = functools.partial(map, operator.itemgetter('n'))\n",
    "a = pd.DataFrame(get_values(TakeHomeData['ltv'])).rename(columns = {0:'ltv'})\n",
    "b = pd.DataFrame(get_values(TakeHomeData['ttime'])).rename(columns = {0:'ttime'})\n",
    "c = pd.DataFrame(get_values(TakeHomeData['abt'])).rename(columns = {0:'abt'})\n",
    "d = pd.DataFrame(get_values(TakeHomeData['tue'])).rename(columns = {0:'tue'})"
   ]
  },
  {
   "cell_type": "code",
   "execution_count": 8,
   "metadata": {},
   "outputs": [],
   "source": [
    "#sum up the frames and assign a singular data type\n",
    "TakeHomeData_clean = pd.concat([a,b,c,d],axis = 1)\n",
    "TakeHomeData_clean.iloc[:,0:4] = TakeHomeData_clean.iloc[:,0:4].astype(float)"
   ]
  },
  {
   "cell_type": "code",
   "execution_count": 9,
   "metadata": {},
   "outputs": [],
   "source": [
    "#make pivot to aggregate across ab groups\n",
    "q_pivot = pd.pivot_table(TakeHomeData_clean,values=['ltv','ttime','tue'],columns = ['abt'],aggfunc=sum)"
   ]
  },
  {
   "cell_type": "code",
   "execution_count": 10,
   "metadata": {},
   "outputs": [],
   "source": [
    "#make transpose pivot\n",
    "q_pivot = q_pivot.transpose().reset_index()"
   ]
  },
  {
   "cell_type": "code",
   "execution_count": 183,
   "metadata": {},
   "outputs": [
    {
     "name": "stderr",
     "output_type": "stream",
     "text": [
      "/opt/anaconda3/lib/python3.7/site-packages/ipykernel_launcher.py:18: SettingWithCopyWarning: \n",
      "A value is trying to be set on a copy of a slice from a DataFrame.\n",
      "Try using .loc[row_indexer,col_indexer] = value instead\n",
      "\n",
      "See the caveats in the documentation: http://pandas.pydata.org/pandas-docs/stable/user_guide/indexing.html#returning-a-view-versus-a-copy\n"
     ]
    }
   ],
   "source": [
    "#compute difference\n",
    "d = {}\n",
    "diff = {}\n",
    "map_dict = {}\n",
    "j = 0\n",
    "for n in range(0,max(q_pivot.index)+1):\n",
    "    d[n] = pd.DataFrame(q_pivot.iloc[:, :].values - q_pivot.iloc[n:n+1, :].values)\n",
    "    diff[n] = d[n][d[n][0] > 0]\n",
    "    if n == 0:\n",
    "        for x in range(min(list(diff[n][0])),max(list(diff[n][0]))+1):\n",
    "            map_dict[x] = f'1-{x+1}'\n",
    "        j += 1\n",
    "    if j == 59:\n",
    "        break\n",
    "    if n ==j:\n",
    "        for x in range(min(list(diff[n][0])),max(list(diff[n][0]))+1):\n",
    "            map_dict[x] = f'{j+1}-{x+j+1}'\n",
    "        j += 1\n",
    "    diff[n][0] = diff[n][0].map(map_dict)\n",
    "    map_dict = {}"
   ]
  },
  {
   "cell_type": "code",
   "execution_count": 205,
   "metadata": {},
   "outputs": [],
   "source": [
    "#concat difference dataframes\n",
    "df = pd.DataFrame()\n",
    "for y in range(0,max(q_pivot.index)):\n",
    "    df = pd.concat([df,diff[y]],axis = 0)"
   ]
  },
  {
   "cell_type": "code",
   "execution_count": 206,
   "metadata": {},
   "outputs": [],
   "source": [
    "#renaming dataframes\n",
    "df = df.rename(columns = {0:'abt_diff',1:'ltv_diff',2:'ttime_diff',3:'tue_diff'})"
   ]
  },
  {
   "cell_type": "code",
   "execution_count": 207,
   "metadata": {},
   "outputs": [],
   "source": [
    "#taking absolute values\n",
    "df[['ltv_diff','ttime_diff','tue_diff']] = df[['ltv_diff','ttime_diff','tue_diff']].abs()"
   ]
  },
  {
   "cell_type": "code",
   "execution_count": 208,
   "metadata": {},
   "outputs": [
    {
     "data": {
      "text/html": [
       "<div>\n",
       "<style scoped>\n",
       "    .dataframe tbody tr th:only-of-type {\n",
       "        vertical-align: middle;\n",
       "    }\n",
       "\n",
       "    .dataframe tbody tr th {\n",
       "        vertical-align: top;\n",
       "    }\n",
       "\n",
       "    .dataframe thead th {\n",
       "        text-align: right;\n",
       "    }\n",
       "</style>\n",
       "<table border=\"1\" class=\"dataframe\">\n",
       "  <thead>\n",
       "    <tr style=\"text-align: right;\">\n",
       "      <th></th>\n",
       "      <th>abt_diff</th>\n",
       "      <th>ltv_diff</th>\n",
       "      <th>ttime_diff</th>\n",
       "      <th>tue_diff</th>\n",
       "    </tr>\n",
       "  </thead>\n",
       "  <tbody>\n",
       "    <tr>\n",
       "      <th>1</th>\n",
       "      <td>1-2</td>\n",
       "      <td>25040</td>\n",
       "      <td>6188567377</td>\n",
       "      <td>66898</td>\n",
       "    </tr>\n",
       "    <tr>\n",
       "      <th>2</th>\n",
       "      <td>1-3</td>\n",
       "      <td>4337</td>\n",
       "      <td>1072572966</td>\n",
       "      <td>22509</td>\n",
       "    </tr>\n",
       "    <tr>\n",
       "      <th>3</th>\n",
       "      <td>1-4</td>\n",
       "      <td>18332</td>\n",
       "      <td>4335553509</td>\n",
       "      <td>61089</td>\n",
       "    </tr>\n",
       "    <tr>\n",
       "      <th>4</th>\n",
       "      <td>1-5</td>\n",
       "      <td>1159</td>\n",
       "      <td>934193425</td>\n",
       "      <td>11308</td>\n",
       "    </tr>\n",
       "    <tr>\n",
       "      <th>5</th>\n",
       "      <td>1-6</td>\n",
       "      <td>3456</td>\n",
       "      <td>1202475854</td>\n",
       "      <td>11575</td>\n",
       "    </tr>\n",
       "    <tr>\n",
       "      <th>...</th>\n",
       "      <td>...</td>\n",
       "      <td>...</td>\n",
       "      <td>...</td>\n",
       "      <td>...</td>\n",
       "    </tr>\n",
       "    <tr>\n",
       "      <th>58</th>\n",
       "      <td>57-59</td>\n",
       "      <td>1994</td>\n",
       "      <td>76495972</td>\n",
       "      <td>147</td>\n",
       "    </tr>\n",
       "    <tr>\n",
       "      <th>59</th>\n",
       "      <td>57-60</td>\n",
       "      <td>3195</td>\n",
       "      <td>1610577292</td>\n",
       "      <td>15932</td>\n",
       "    </tr>\n",
       "    <tr>\n",
       "      <th>58</th>\n",
       "      <td>58-59</td>\n",
       "      <td>14801</td>\n",
       "      <td>385397038</td>\n",
       "      <td>10465</td>\n",
       "    </tr>\n",
       "    <tr>\n",
       "      <th>59</th>\n",
       "      <td>58-60</td>\n",
       "      <td>19990</td>\n",
       "      <td>1301676226</td>\n",
       "      <td>5320</td>\n",
       "    </tr>\n",
       "    <tr>\n",
       "      <th>59</th>\n",
       "      <td>59-60</td>\n",
       "      <td>5189</td>\n",
       "      <td>1687073264</td>\n",
       "      <td>15785</td>\n",
       "    </tr>\n",
       "  </tbody>\n",
       "</table>\n",
       "<p>1770 rows × 4 columns</p>\n",
       "</div>"
      ],
      "text/plain": [
       "   abt_diff  ltv_diff  ttime_diff  tue_diff\n",
       "1       1-2     25040  6188567377     66898\n",
       "2       1-3      4337  1072572966     22509\n",
       "3       1-4     18332  4335553509     61089\n",
       "4       1-5      1159   934193425     11308\n",
       "5       1-6      3456  1202475854     11575\n",
       "..      ...       ...         ...       ...\n",
       "58    57-59      1994    76495972       147\n",
       "59    57-60      3195  1610577292     15932\n",
       "58    58-59     14801   385397038     10465\n",
       "59    58-60     19990  1301676226      5320\n",
       "59    59-60      5189  1687073264     15785\n",
       "\n",
       "[1770 rows x 4 columns]"
      ]
     },
     "execution_count": 208,
     "metadata": {},
     "output_type": "execute_result"
    }
   ],
   "source": [
    "df"
   ]
  },
  {
   "cell_type": "code",
   "execution_count": 213,
   "metadata": {},
   "outputs": [
    {
     "data": {
      "text/plain": [
       "<matplotlib.axes._subplots.AxesSubplot at 0x3bbfe9d10>"
      ]
     },
     "execution_count": 213,
     "metadata": {},
     "output_type": "execute_result"
    },
    {
     "data": {
      "image/png": "[encoded data removed]",
      "text/plain": [
       "<Figure size 432x288 with 1 Axes>"
      ]
     },
     "metadata": {
      "needs_background": "light"
     },
     "output_type": "display_data"
    }
   ],
   "source": [
    "#tue_diff is in positive correlation with ttime_diff\n",
    "df.plot(kind='scatter',x='ttime_diff',y='tue_diff',color='green')"
   ]
  },
  {
   "cell_type": "code",
   "execution_count": 214,
   "metadata": {},
   "outputs": [
    {
     "data": {
      "text/plain": [
       "<matplotlib.axes._subplots.AxesSubplot at 0x3bbac2710>"
      ]
     },
     "execution_count": 214,
     "metadata": {},
     "output_type": "execute_result"
    },
    {
     "data": {
      "image/png": "[encoded data removed]",
      "text/plain": [
       "<Figure size 432x288 with 1 Axes>"
      ]
     },
     "metadata": {
      "needs_background": "light"
     },
     "output_type": "display_data"
    }
   ],
   "source": [
    "#ltv_diff is in positive correlation with ttime_diff\n",
    "df.plot(kind='scatter',x='ltv_diff',y='ttime_diff',color='blue')"
   ]
  },
  {
   "cell_type": "code",
   "execution_count": 211,
   "metadata": {},
   "outputs": [
    {
     "data": {
      "text/plain": [
       "<matplotlib.axes._subplots.AxesSubplot at 0x3bbe90d90>"
      ]
     },
     "execution_count": 211,
     "metadata": {},
     "output_type": "execute_result"
    },
    {
     "data": {
      "image/png": "[encoded data removed]",
      "text/plain": [
       "<Figure size 432x288 with 1 Axes>"
      ]
     },
     "metadata": {
      "needs_background": "light"
     },
     "output_type": "display_data"
    }
   ],
   "source": [
    "#ltv_diff and tue_diff are positively correlated but not strongly correlated\n",
    "df.plot(kind='scatter',x='ltv_diff',y='tue_diff',color='red')"
   ]
  },
  {
   "cell_type": "code",
   "execution_count": 217,
   "metadata": {},
   "outputs": [
    {
     "data": {
      "text/plain": [
       "<matplotlib.axes._subplots.AxesSubplot at 0x3c27c2610>"
      ]
     },
     "execution_count": 217,
     "metadata": {},
     "output_type": "execute_result"
    },
    {
     "data": {
      "image/png": "[encoded data removed]",
      "text/plain": [
       "<Figure size 432x288 with 1 Axes>"
      ]
     },
     "metadata": {
      "needs_background": "light"
     },
     "output_type": "display_data"
    }
   ],
   "source": [
    "#data points are evenly distributed across all groups\n",
    "df.plot(kind='bar',x='abt_diff',y=['ltv_diff'])"
   ]
  },
  {
   "cell_type": "code",
   "execution_count": 218,
   "metadata": {},
   "outputs": [
    {
     "data": {
      "text/plain": [
       "<matplotlib.axes._subplots.AxesSubplot at 0x3c4fd4990>"
      ]
     },
     "execution_count": 218,
     "metadata": {},
     "output_type": "execute_result"
    },
    {
     "data": {
      "image/png": "[encoded data removed]",
      "text/plain": [
       "<Figure size 432x288 with 1 Axes>"
      ]
     },
     "metadata": {
      "needs_background": "light"
     },
     "output_type": "display_data"
    }
   ],
   "source": [
    "#data points are skewed for tue_diff in first 20 categories\n",
    "df.plot(kind='bar',x='abt_diff',y=['tue_diff'])"
   ]
  },
  {
   "cell_type": "code",
   "execution_count": 219,
   "metadata": {},
   "outputs": [
    {
     "data": {
      "text/plain": [
       "<matplotlib.axes._subplots.AxesSubplot at 0x3c7982fd0>"
      ]
     },
     "execution_count": 219,
     "metadata": {},
     "output_type": "execute_result"
    },
    {
     "data": {
      "image/png": "[encoded data removed]",
      "text/plain": [
       "<Figure size 432x288 with 1 Axes>"
      ]
     },
     "metadata": {
      "needs_background": "light"
     },
     "output_type": "display_data"
    }
   ],
   "source": [
    "#data points are stale for ttime_diff in first 20 categories\n",
    "df.plot(kind='bar',x='abt_diff',y=['ttime_diff'])"
   ]
  },
  {
   "cell_type": "code",
   "execution_count": null,
   "metadata": {},
   "outputs": [],
   "source": [
    "######TASK 2########"
   ]
  },
  {
   "cell_type": "code",
   "execution_count": 129,
   "metadata": {},
   "outputs": [
    {
     "data": {
      "text/html": [
       "<div>\n",
       "<style scoped>\n",
       "    .dataframe tbody tr th:only-of-type {\n",
       "        vertical-align: middle;\n",
       "    }\n",
       "\n",
       "    .dataframe tbody tr th {\n",
       "        vertical-align: top;\n",
       "    }\n",
       "\n",
       "    .dataframe thead th {\n",
       "        text-align: right;\n",
       "    }\n",
       "</style>\n",
       "<table border=\"1\" class=\"dataframe\">\n",
       "  <thead>\n",
       "    <tr style=\"text-align: right;\">\n",
       "      <th></th>\n",
       "      <th>cumGXP</th>\n",
       "      <th>cumPXP</th>\n",
       "      <th>econ</th>\n",
       "      <th>lvl</th>\n",
       "      <th>cumTime</th>\n",
       "      <th>cumUnits</th>\n",
       "    </tr>\n",
       "  </thead>\n",
       "  <tbody>\n",
       "    <tr>\n",
       "      <th>0</th>\n",
       "      <td>500.0</td>\n",
       "      <td>0</td>\n",
       "      <td>Controls</td>\n",
       "      <td>1</td>\n",
       "      <td>0.10</td>\n",
       "      <td>0</td>\n",
       "    </tr>\n",
       "    <tr>\n",
       "      <th>1</th>\n",
       "      <td>1500.0</td>\n",
       "      <td>200</td>\n",
       "      <td>Controls</td>\n",
       "      <td>2</td>\n",
       "      <td>0.10</td>\n",
       "      <td>20</td>\n",
       "    </tr>\n",
       "    <tr>\n",
       "      <th>2</th>\n",
       "      <td>3500.0</td>\n",
       "      <td>600</td>\n",
       "      <td>Controls</td>\n",
       "      <td>3</td>\n",
       "      <td>0.20</td>\n",
       "      <td>60</td>\n",
       "    </tr>\n",
       "    <tr>\n",
       "      <th>3</th>\n",
       "      <td>6500.0</td>\n",
       "      <td>1200</td>\n",
       "      <td>Controls</td>\n",
       "      <td>4</td>\n",
       "      <td>0.30</td>\n",
       "      <td>120</td>\n",
       "    </tr>\n",
       "    <tr>\n",
       "      <th>4</th>\n",
       "      <td>11000.0</td>\n",
       "      <td>2000</td>\n",
       "      <td>Controls</td>\n",
       "      <td>5</td>\n",
       "      <td>0.50</td>\n",
       "      <td>200</td>\n",
       "    </tr>\n",
       "    <tr>\n",
       "      <th>...</th>\n",
       "      <td>...</td>\n",
       "      <td>...</td>\n",
       "      <td>...</td>\n",
       "      <td>...</td>\n",
       "      <td>...</td>\n",
       "      <td>...</td>\n",
       "    </tr>\n",
       "    <tr>\n",
       "      <th>135</th>\n",
       "      <td>1627550.0</td>\n",
       "      <td>169895</td>\n",
       "      <td>Econ3</td>\n",
       "      <td>36</td>\n",
       "      <td>180.84</td>\n",
       "      <td>1595</td>\n",
       "    </tr>\n",
       "    <tr>\n",
       "      <th>136</th>\n",
       "      <td>1743050.0</td>\n",
       "      <td>177895</td>\n",
       "      <td>Econ3</td>\n",
       "      <td>37</td>\n",
       "      <td>193.67</td>\n",
       "      <td>1595</td>\n",
       "    </tr>\n",
       "    <tr>\n",
       "      <th>137</th>\n",
       "      <td>1863050.0</td>\n",
       "      <td>185895</td>\n",
       "      <td>Econ3</td>\n",
       "      <td>38</td>\n",
       "      <td>207.01</td>\n",
       "      <td>1595</td>\n",
       "    </tr>\n",
       "    <tr>\n",
       "      <th>138</th>\n",
       "      <td>1987550.0</td>\n",
       "      <td>193895</td>\n",
       "      <td>Econ3</td>\n",
       "      <td>39</td>\n",
       "      <td>220.84</td>\n",
       "      <td>1595</td>\n",
       "    </tr>\n",
       "    <tr>\n",
       "      <th>139</th>\n",
       "      <td>2116550.0</td>\n",
       "      <td>201895</td>\n",
       "      <td>Econ3</td>\n",
       "      <td>40</td>\n",
       "      <td>235.17</td>\n",
       "      <td>1595</td>\n",
       "    </tr>\n",
       "  </tbody>\n",
       "</table>\n",
       "<p>140 rows × 6 columns</p>\n",
       "</div>"
      ],
      "text/plain": [
       "        cumGXP  cumPXP      econ  lvl  cumTime  cumUnits\n",
       "0        500.0       0  Controls    1     0.10         0\n",
       "1       1500.0     200  Controls    2     0.10        20\n",
       "2       3500.0     600  Controls    3     0.20        60\n",
       "3       6500.0    1200  Controls    4     0.30       120\n",
       "4      11000.0    2000  Controls    5     0.50       200\n",
       "..         ...     ...       ...  ...      ...       ...\n",
       "135  1627550.0  169895     Econ3   36   180.84      1595\n",
       "136  1743050.0  177895     Econ3   37   193.67      1595\n",
       "137  1863050.0  185895     Econ3   38   207.01      1595\n",
       "138  1987550.0  193895     Econ3   39   220.84      1595\n",
       "139  2116550.0  201895     Econ3   40   235.17      1595\n",
       "\n",
       "[140 rows x 6 columns]"
      ]
     },
     "execution_count": 129,
     "metadata": {},
     "output_type": "execute_result"
    }
   ],
   "source": [
    "econs = pd.read_csv('econs.txt',delimiter='\\t')\n",
    "econs"
   ]
  },
  {
   "cell_type": "code",
   "execution_count": 130,
   "metadata": {},
   "outputs": [
    {
     "data": {
      "text/html": [
       "<div>\n",
       "<style scoped>\n",
       "    .dataframe tbody tr th:only-of-type {\n",
       "        vertical-align: middle;\n",
       "    }\n",
       "\n",
       "    .dataframe tbody tr th {\n",
       "        vertical-align: top;\n",
       "    }\n",
       "\n",
       "    .dataframe thead th {\n",
       "        text-align: right;\n",
       "    }\n",
       "</style>\n",
       "<table border=\"1\" class=\"dataframe\">\n",
       "  <thead>\n",
       "    <tr style=\"text-align: right;\">\n",
       "      <th></th>\n",
       "      <th>state</th>\n",
       "      <th>sts</th>\n",
       "    </tr>\n",
       "  </thead>\n",
       "  <tbody>\n",
       "    <tr>\n",
       "      <th>0</th>\n",
       "      <td>{\"n\":\"1\"}</td>\n",
       "      <td>{\"m\":{\"com.utorrent.client.pro\":{\"m\":{\"d30\":{\"...</td>\n",
       "    </tr>\n",
       "    <tr>\n",
       "      <th>1</th>\n",
       "      <td>{\"n\":\"1\"}</td>\n",
       "      <td>{\"m\":{\"com.tetherstudios.solitaire.klondike\":{...</td>\n",
       "    </tr>\n",
       "    <tr>\n",
       "      <th>2</th>\n",
       "      <td>{\"n\":\"0\"}</td>\n",
       "      <td>{\"m\":{\"com.ticketmaster.mobile.android.na\":{\"m...</td>\n",
       "    </tr>\n",
       "    <tr>\n",
       "      <th>3</th>\n",
       "      <td>{\"n\":\"0\"}</td>\n",
       "      <td>{\"m\":{\"com.ticketmaster.mobile.android.na\":{\"m...</td>\n",
       "    </tr>\n",
       "    <tr>\n",
       "      <th>4</th>\n",
       "      <td>{\"n\":\"1\"}</td>\n",
       "      <td>{\"m\":{\"flipboard.boxer.app\":{\"m\":{\"d30\":{\"n\":\"...</td>\n",
       "    </tr>\n",
       "    <tr>\n",
       "      <th>...</th>\n",
       "      <td>...</td>\n",
       "      <td>...</td>\n",
       "    </tr>\n",
       "    <tr>\n",
       "      <th>6086</th>\n",
       "      <td>{\"n\":\"1\"}</td>\n",
       "      <td>{\"m\":{\"com.trustonic.tuiservice\":{\"m\":{\"cat\":{...</td>\n",
       "    </tr>\n",
       "    <tr>\n",
       "      <th>6087</th>\n",
       "      <td>{\"n\":\"1\"}</td>\n",
       "      <td>{\"m\":{\"com.barclays.apps.pingit\":{\"m\":{\"cat\":{...</td>\n",
       "    </tr>\n",
       "    <tr>\n",
       "      <th>6088</th>\n",
       "      <td>{\"n\":\"1\"}</td>\n",
       "      <td>{\"m\":{\"com.fungames.sniper3d\":{\"m\":{\"cat\":{\"s\"...</td>\n",
       "    </tr>\n",
       "    <tr>\n",
       "      <th>6089</th>\n",
       "      <td>{\"n\":\"1\"}</td>\n",
       "      <td>{\"m\":{\"com.fungames.sniper3d\":{\"m\":{\"d30\":{\"n\"...</td>\n",
       "    </tr>\n",
       "    <tr>\n",
       "      <th>6090</th>\n",
       "      <td>{\"n\":\"1\"}</td>\n",
       "      <td>{\"m\":{\"com.qrcodereaderapp\":{\"m\":{\"d30\":{\"n\":\"...</td>\n",
       "    </tr>\n",
       "  </tbody>\n",
       "</table>\n",
       "<p>6091 rows × 2 columns</p>\n",
       "</div>"
      ],
      "text/plain": [
       "          state                                                sts\n",
       "0     {\"n\":\"1\"}  {\"m\":{\"com.utorrent.client.pro\":{\"m\":{\"d30\":{\"...\n",
       "1     {\"n\":\"1\"}  {\"m\":{\"com.tetherstudios.solitaire.klondike\":{...\n",
       "2     {\"n\":\"0\"}  {\"m\":{\"com.ticketmaster.mobile.android.na\":{\"m...\n",
       "3     {\"n\":\"0\"}  {\"m\":{\"com.ticketmaster.mobile.android.na\":{\"m...\n",
       "4     {\"n\":\"1\"}  {\"m\":{\"flipboard.boxer.app\":{\"m\":{\"d30\":{\"n\":\"...\n",
       "...         ...                                                ...\n",
       "6086  {\"n\":\"1\"}  {\"m\":{\"com.trustonic.tuiservice\":{\"m\":{\"cat\":{...\n",
       "6087  {\"n\":\"1\"}  {\"m\":{\"com.barclays.apps.pingit\":{\"m\":{\"cat\":{...\n",
       "6088  {\"n\":\"1\"}  {\"m\":{\"com.fungames.sniper3d\":{\"m\":{\"cat\":{\"s\"...\n",
       "6089  {\"n\":\"1\"}  {\"m\":{\"com.fungames.sniper3d\":{\"m\":{\"d30\":{\"n\"...\n",
       "6090  {\"n\":\"1\"}  {\"m\":{\"com.qrcodereaderapp\":{\"m\":{\"d30\":{\"n\":\"...\n",
       "\n",
       "[6091 rows x 2 columns]"
      ]
     },
     "execution_count": 130,
     "metadata": {},
     "output_type": "execute_result"
    }
   ],
   "source": [
    "sts = pd.read_csv('sts.csv')\n",
    "sts"
   ]
  },
  {
   "cell_type": "code",
   "execution_count": 131,
   "metadata": {},
   "outputs": [
    {
     "data": {
      "text/plain": [
       "state    0\n",
       "sts      0\n",
       "dtype: int64"
      ]
     },
     "execution_count": 131,
     "metadata": {},
     "output_type": "execute_result"
    }
   ],
   "source": [
    "sts.isna().sum()"
   ]
  },
  {
   "cell_type": "code",
   "execution_count": 137,
   "metadata": {},
   "outputs": [],
   "source": [
    "sts['state'] = sts['state'].swifter.apply(lambda x: ast.literal_eval(x))\n",
    "state = pd.DataFrame(get_values(sts['state'])).rename(columns = {0:'state_clean'})\n",
    "sts_new = pd.concat([sts,state],axis = 1).drop('state',axis = 1)\n",
    "sts_new['sts'] = sts_new['sts'].swifter.apply(lambda x: ast.literal_eval(x))"
   ]
  }
 ],
 "metadata": {
  "kernelspec": {
   "display_name": "Python 3",
   "language": "python",
   "name": "python3"
  },
  "language_info": {
   "codemirror_mode": {
    "name": "ipython",
    "version": 3
   },
   "file_extension": ".py",
   "mimetype": "text/x-python",
   "name": "python",
   "nbconvert_exporter": "python",
   "pygments_lexer": "ipython3",
   "version": "3.7.4"
  }
 },
 "nbformat": 4,
 "nbformat_minor": 2
}
